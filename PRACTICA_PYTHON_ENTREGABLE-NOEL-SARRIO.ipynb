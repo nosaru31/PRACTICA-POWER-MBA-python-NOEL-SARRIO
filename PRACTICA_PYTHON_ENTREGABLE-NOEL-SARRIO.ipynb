{
 "cells": [
  {
   "cell_type": "code",
   "execution_count": 2,
   "id": "f9e13704",
   "metadata": {},
   "outputs": [],
   "source": [
    "# 1. Escribe una función que reciba una cadena de texto como parámetro y devuelva un diccionario con las frecuencias de cada letra en la cadena. Los espacios no deben ser considerados.\n",
    "\n",
    "def contar_frecuencias(cadena):\n",
    "    frecuencias = {}\n",
    "    for letra in cadena:\n",
    "        if letra != ' ':\n",
    "            if letra in frecuencias:\n",
    "                frecuencias[letra] += 1\n",
    "            else:\n",
    "                frecuencias[letra] = 1\n",
    "    return frecuencias\n"
   ]
  },
  {
   "cell_type": "code",
   "execution_count": null,
   "id": "79fdbe16",
   "metadata": {},
   "outputs": [
    {
     "name": "stdout",
     "output_type": "stream",
     "text": [
      "[2, 4, 6, 8, 10]\n"
     ]
    }
   ],
   "source": [
    "# 2. Dada una lista de números, obtén una nueva lista con el doble de cada valor. Usa la función map()\n",
    "numeros = [1, 2, 3, 4, 5]\n",
    "\n",
    "dobles = list(map(lambda x: x * 2, numeros))\n",
    "\n",
    "print(dobles)\n"
   ]
  },
  {
   "cell_type": "code",
   "execution_count": null,
   "id": "0d3745fc",
   "metadata": {},
   "outputs": [],
   "source": [
    "# 3. Escribe una función que tome una lista de palabras y una palabra objetivo como parámetros. La función debe devolver una lista con todas las palabras de la lista original que contengan la palabra objetivo.\n",
    "\n",
    "def filtrar_palabras(palabras, objetivo):\n",
    "    return [palabra for palabra in palabras if objetivo in palabra]\n"
   ]
  },
  {
   "cell_type": "code",
   "execution_count": null,
   "id": "88e3532f",
   "metadata": {},
   "outputs": [],
   "source": [
    "# 4. Genera una función que calcule la diferencia entre los valores de dos listas. Usa la función map()\n",
    "\n",
    "def diferencias(lista1, lista2):\n",
    "    return list(map(lambda x, y: x - y, lista1, lista2))\n"
   ]
  },
  {
   "cell_type": "code",
   "execution_count": 11,
   "id": "e6b3c2a0",
   "metadata": {},
   "outputs": [],
   "source": [
    "# 5. Ecribe una función que tome una lista de números como parámetro y un valor opcional nota_aprobado, que por defecto es 5. La función debe calcular la media de los números en la lista y determinar si la media es mayor o igual que nota aprobado. Si es así, el estado será \"aprobado\", de lo contrario, será \"suspenso\". La función debe devolver una tupla que contenga la media y el estado.\n",
    "\n",
    "def evaluar_media(numeros, nota_aprobado=5):\n",
    "    if not numeros:\n",
    "        return (0, \"suspenso\") \n",
    "    media = sum(numeros) / len(numeros)\n",
    "    estado = \"aprobado\" if media >= nota_aprobado else \"suspenso\"\n",
    "    return (media, estado)\n"
   ]
  },
  {
   "cell_type": "code",
   "execution_count": 12,
   "id": "b47d14c3",
   "metadata": {},
   "outputs": [],
   "source": [
    "# 6. Escribe una función que calcule el factorial de un número de manera recursiva.\n",
    "\n",
    "def factorial(n):\n",
    "    if n < 0:\n",
    "        raise ValueError(\"El número debe ser no negativo.\")\n",
    "    if n == 0 or n == 1:\n",
    "        return 1\n",
    "    return n * factorial(n - 1)\n"
   ]
  },
  {
   "cell_type": "code",
   "execution_count": 13,
   "id": "45de43d3",
   "metadata": {},
   "outputs": [],
   "source": [
    "# 7. Genera una función que convierta una lista de tuplas a una lista de strings. Usa la función map()\n",
    "\n",
    "def tuplas_a_strings(lista_tuplas):\n",
    "    return list(map(lambda tupla: ' '.join(map(str, tupla)), lista_tuplas))\n"
   ]
  },
  {
   "cell_type": "code",
   "execution_count": 4,
   "id": "e196b564",
   "metadata": {},
   "outputs": [
    {
     "name": "stdout",
     "output_type": "stream",
     "text": [
      "Resultado: 1.3333333333333333\n",
      "División realizada con éxito.\n",
      "Operación completada sin errores.\n",
      "Programa finalizado.\n"
     ]
    }
   ],
   "source": [
    "# 8. Escribe un programa que pida al usuario dos números e intente dividirlos. Si el usuario ingresa un valor no numérico o intenta dividir por cero, maneja esas excepciones de manera adecuada. Asegúrate de mostrar un mensaje indicando si la división fue exitosa o no.\n",
    "\n",
    "def dividir_numeros():\n",
    "    try:\n",
    "        num1 = float(input(\"Ingresa el primer número: \"))\n",
    "        num2 = float(input(\"Ingresa el segundo número: \"))\n",
    "        \n",
    "        resultado = num1 / num2\n",
    "        print(f\"Resultado: {resultado}\")\n",
    "        print(\"División realizada con éxito.\")\n",
    "    \n",
    "    except ValueError:\n",
    "        print(\"Error: Debes ingresar valores numéricos.\")\n",
    "    \n",
    "    except ZeroDivisionError:\n",
    "        print(\"Error: No se puede dividir entre cero.\")\n",
    "    \n",
    "    else:\n",
    "        print(\"Operación completada sin errores.\")\n",
    "    \n",
    "    finally:\n",
    "        print(\"Programa finalizado.\")\n",
    "\n",
    "# Ejecutar la función\n",
    "dividir_numeros()\n",
    "\n"
   ]
  },
  {
   "cell_type": "code",
   "execution_count": 18,
   "id": "135e65c9",
   "metadata": {},
   "outputs": [],
   "source": [
    "# 9. Escribe una función que tome una lista de nombres de mascotas como parámetro y devuelva una nueva lista excluyendo ciertas mascotas prohibidas en España. La lista de mascotas a excluir es [\"Mapache\", \"Tigre\", \"Serpiente Pitón\", \"Cocodrilo\", \"Oso\"].Usa la función filter()\n",
    "\n",
    "def filtrar_mascotas_permitidas(mascotas):\n",
    "    prohibidas = [\"Mapache\", \"Tigre\", \"Serpiente Pitón\", \"Cocodrilo\", \"Oso\"]\n",
    "    return list(filter(lambda m: m not in prohibidas, mascotas))\n"
   ]
  },
  {
   "cell_type": "code",
   "execution_count": 19,
   "id": "7e66cd91",
   "metadata": {},
   "outputs": [
    {
     "name": "stdout",
     "output_type": "stream",
     "text": [
      "Error: La lista está vacía. No se puede calcular el promedio.\n"
     ]
    }
   ],
   "source": [
    "# 10. Escribe una función que reciba una lista de números y calcule su promedio. Si la lista está vacía, lanza una excepción personalizada y maneja el error adecuadamente.\n",
    "\n",
    "class ListaVaciaError(Exception):\n",
    "    \"\"\"Excepción personalizada para listas vacías.\"\"\"\n",
    "    pass\n",
    "\n",
    "def calcular_promedio(numeros):\n",
    "    if not numeros:\n",
    "        raise ListaVaciaError(\"La lista está vacía. No se puede calcular el promedio.\")\n",
    "    return sum(numeros) / len(numeros)\n",
    "\n",
    "# Ejemplo de uso\n",
    "try:\n",
    "    lista = []  # Prueba con números: [4, 5, 6]\n",
    "    promedio = calcular_promedio(lista)\n",
    "    print(f\"El promedio es: {promedio}\")\n",
    "except ListaVaciaError as e:\n",
    "    print(f\"Error: {e}\")\n"
   ]
  },
  {
   "cell_type": "code",
   "execution_count": 21,
   "id": "954bfac1",
   "metadata": {},
   "outputs": [
    {
     "name": "stdout",
     "output_type": "stream",
     "text": [
      "Tu edad es: 10\n"
     ]
    }
   ],
   "source": [
    "# 11.Escribe un programa que pida al usuario que introduzca su edad. Si el usuario ingresa un valor no numérico o un valor fuera del rango esperado (por ejemplo, menor que 0 o mayor que 120, maneja las excepciones adecuadamente.\n",
    "\n",
    "def pedir_edad():\n",
    "    try:\n",
    "        entrada = input(\"Introduce tu edad: \")\n",
    "        edad = int(entrada)\n",
    "\n",
    "        if edad < 0 or edad > 120:\n",
    "            raise ValueError(\"La edad debe estar entre 0 y 120.\")\n",
    "\n",
    "        print(f\"Tu edad es: {edad}\")\n",
    "\n",
    "    except ValueError as e:\n",
    "        print(f\"Error: {e}\")\n",
    "\n",
    "# Ejecutar la función\n",
    "pedir_edad()\n"
   ]
  },
  {
   "cell_type": "code",
   "execution_count": 22,
   "id": "70208880",
   "metadata": {},
   "outputs": [],
   "source": [
    "# 12. Genera una función que al recibir una frase devuelva una lista con la longitud de cada palabra. Usa la función map()\n",
    "\n",
    "def longitudes_palabras(frase):\n",
    "    palabras = frase.split()\n",
    "    return list(map(len, palabras))\n"
   ]
  },
  {
   "cell_type": "code",
   "execution_count": null,
   "id": "fe3694b9",
   "metadata": {},
   "outputs": [],
   "source": [
    "# 13. Genera una función la cual, para un conjunto de caracteres, devuelva una lista de tuplas con cada letra en mayúsculas y minúsculas. Las letras no pueden estar repetidas .Usa la función map()\n",
    "\n",
    "def letras_mayus_minus(conjunto):\n",
    "    letras_unicas = set(conjunto)  # Elimina duplicados\n",
    "    letras_solo_alfabeticas = filter(str.isalpha, letras_unicas)  # Filtra solo letras\n",
    "    return list(map(lambda c: (c.upper(), c.lower()), letras_solo_alfabeticas))\n",
    "# "
   ]
  },
  {
   "cell_type": "code",
   "execution_count": null,
   "id": "c7e2c51f",
   "metadata": {},
   "outputs": [],
   "source": [
    "# 14. Crea una función que retorne las palabras de una lista de palabras que comience con una letra en especifico. Usa la función filter()\n",
    "\n",
    "def filtrar_por_letra(palabras, letra):\n",
    "    return list(filter(lambda p: p.startswith(letra), palabras))\n"
   ]
  },
  {
   "cell_type": "code",
   "execution_count": null,
   "id": "1dd790b9",
   "metadata": {},
   "outputs": [],
   "source": [
    "# 15. Crea una función lambda que  sume 3 a cada número de una lista dada.\n",
    "\n",
    "sumar_tres = lambda lista: list(map(lambda x: x + 3, lista))\n",
    "\n"
   ]
  },
  {
   "cell_type": "code",
   "execution_count": null,
   "id": "df5e2c20",
   "metadata": {},
   "outputs": [],
   "source": [
    "#16. Escribe una función que tome una cadena de texto y un número entero n como parámetros y devuelva una lista de todas las palabras que sean más largas que n. Usa la función filter()\n",
    "\n",
    "def palabras_mas_largas_que(cadena, n):\n",
    "    palabras = cadena.split()\n",
    "    return list(filter(lambda palabra: len(palabra) > n, palabras))\n",
    "\n"
   ]
  },
  {
   "cell_type": "code",
   "execution_count": null,
   "id": "6edfb604",
   "metadata": {},
   "outputs": [],
   "source": [
    "# 17. Crea una función que tome una lista de dígitos y devuelva el número correspondiente. Por ejemplo, [5,7,2] corresponde al número quinientos setenta y dos 572. Usa la función reduce()\n",
    "\n",
    "def palabras_mas_largas_que(cadena, n):\n",
    "    palabras = cadena.split()\n",
    "    return list(filter(lambda palabra: len(palabra) > n, palabras))\n",
    "\n"
   ]
  },
  {
   "cell_type": "code",
   "execution_count": 28,
   "id": "262353b6",
   "metadata": {},
   "outputs": [
    {
     "name": "stdout",
     "output_type": "stream",
     "text": [
      "{'nombre': 'Ana', 'edad': 20, 'calificacion': 95}\n",
      "{'nombre': 'Marta', 'edad': 19, 'calificacion': 91}\n",
      "{'nombre': 'Sofía', 'edad': 23, 'calificacion': 90}\n"
     ]
    }
   ],
   "source": [
    "# 18. Escribe un programa en Python que cree una lista de diccionarios que contenga información de estudiantes (nombre, edad, calificación) y use la función filter para extraer a los estudiantes con una calificación mayor o igual a 90. Usa la función filter()\n",
    "\n",
    "# Lista de estudiantes\n",
    "estudiantes = [\n",
    "    {\"nombre\": \"Ana\", \"edad\": 20, \"calificacion\": 95},\n",
    "    {\"nombre\": \"Luis\", \"edad\": 22, \"calificacion\": 88},\n",
    "    {\"nombre\": \"Marta\", \"edad\": 19, \"calificacion\": 91},\n",
    "    {\"nombre\": \"Carlos\", \"edad\": 21, \"calificacion\": 76},\n",
    "    {\"nombre\": \"Sofía\", \"edad\": 23, \"calificacion\": 90}\n",
    "]\n",
    "\n",
    "# Filtrar estudiantes con calificación >= 90\n",
    "excelentes = list(filter(lambda estudiante: estudiante[\"calificacion\"] >= 90, estudiantes))\n",
    "\n",
    "# Mostrar resultados\n",
    "for est in excelentes:\n",
    "    print(est)\n"
   ]
  },
  {
   "cell_type": "code",
   "execution_count": 29,
   "id": "cf6e3663",
   "metadata": {},
   "outputs": [],
   "source": [
    "# 19. Crea una función lambda que filtre los números impares de una lista dada.\n",
    "\n",
    "filtrar_impares = lambda lista: list(filter(lambda x: x % 2 != 0, lista))\n"
   ]
  },
  {
   "cell_type": "code",
   "execution_count": 30,
   "id": "9d58c236",
   "metadata": {},
   "outputs": [],
   "source": [
    "# 20. Para una lista con elementos tipo integer y string obtén una nueva lista sólo con los valores int. Usa la función filter()\n",
    "\n",
    "def filtrar_enteros(lista):\n",
    "    return list(filter(lambda x: isinstance(x, int), lista))\n",
    "\n"
   ]
  },
  {
   "cell_type": "code",
   "execution_count": 1,
   "id": "b4d0fa64",
   "metadata": {},
   "outputs": [],
   "source": [
    "# 21. Crea una función que calcule el cubo de un número dado mediante una función lambda\n",
    "\n",
    "cubo = lambda x: x ** 3\n",
    "\n"
   ]
  },
  {
   "cell_type": "code",
   "execution_count": 2,
   "id": "15a2bffa",
   "metadata": {},
   "outputs": [],
   "source": [
    "# 22. Dada una lista numérica, obtén el producto total de los valores de dicha lista.Usa la función reduce() .\n",
    "\n",
    "from functools import reduce\n",
    "def producto_total(lista):\n",
    "    return reduce(lambda x, y: x * y, lista)"
   ]
  },
  {
   "cell_type": "code",
   "execution_count": 3,
   "id": "0f9ce8a4",
   "metadata": {},
   "outputs": [],
   "source": [
    "#23. Concatena una lista de palabras.Usa la función reduce() .\n",
    "\n",
    "from functools import reduce\n",
    "\n",
    "def concatenar_palabras(lista):\n",
    "    return reduce(lambda x, y: x + y, lista)\n"
   ]
  },
  {
   "cell_type": "code",
   "execution_count": 4,
   "id": "458d35f1",
   "metadata": {},
   "outputs": [],
   "source": [
    "#24. Calcula la diferencia total en los valores de una lista. Usa la función reduce() .\n",
    "\n",
    "from functools import reduce\n",
    "\n",
    "def diferencia_total(lista):\n",
    "    return reduce(lambda x, y: x - y, lista)\n"
   ]
  },
  {
   "cell_type": "code",
   "execution_count": 5,
   "id": "2421230f",
   "metadata": {},
   "outputs": [],
   "source": [
    "#25. Crea una función que cuente el número de caracteres en una cadena de texto dada.\n",
    "\n",
    "def contar_caracteres(cadena):\n",
    "    return len(cadena)\n"
   ]
  },
  {
   "cell_type": "code",
   "execution_count": 7,
   "id": "8d5178da",
   "metadata": {},
   "outputs": [],
   "source": [
    "# 26. Crea una función lambda que calcule el resto de la división entre dos números dados.\n",
    "\n",
    "resto = lambda x, y: x % y\n"
   ]
  },
  {
   "cell_type": "code",
   "execution_count": 6,
   "id": "374072e9",
   "metadata": {},
   "outputs": [],
   "source": [
    "# 27. Crea una función que calcule el promedio de una lista de números.\n",
    "\n",
    "def calcular_promedio(lista):\n",
    "    if not lista:\n",
    "        raise ValueError(\"La lista no puede estar vacía.\")\n",
    "    return sum(lista) / len(lista)\n"
   ]
  },
  {
   "cell_type": "code",
   "execution_count": 8,
   "id": "223bd078",
   "metadata": {},
   "outputs": [],
   "source": [
    "#28. Crea una función que busque y devuelva el primer elemento duplicado en una lista dada.\n",
    "\n",
    "def primer_duplicado(lista):\n",
    "    vistos = set()\n",
    "    for elemento in lista:\n",
    "        if elemento in vistos:\n",
    "            return elemento\n",
    "        vistos.add(elemento)\n",
    "    return None\n"
   ]
  },
  {
   "cell_type": "code",
   "execution_count": 1,
   "id": "46b6470d",
   "metadata": {},
   "outputs": [
    {
     "name": "stdout",
     "output_type": "stream",
     "text": [
      "######7890\n"
     ]
    }
   ],
   "source": [
    "# 29. Crea una función que convierta una variable en una cadena de texto y enmascare todos los caracteres con el carácter '#', excepto los últimos cuatro.\n",
    "\n",
    "def enmascarar_variable(variable):\n",
    "    cadena = str(variable)\n",
    "    if len(cadena) <= 4:\n",
    "        return cadena\n",
    "    return '#' * (len(cadena) - 4) + cadena[-4:]\n",
    "\n",
    "#ejemplo de uso\n",
    "variable = 1234567890\n",
    "resultado = enmascarar_variable(variable)\n",
    "print(resultado)  # Salida: #######7890\n"
   ]
  },
  {
   "cell_type": "code",
   "execution_count": 10,
   "id": "9b66eaba",
   "metadata": {},
   "outputs": [],
   "source": [
    "#30. Crea una función que determine si dos palabras son anagramas, es decir, si están formadas por las mismas letras pero en diferente orden.\n",
    "\n",
    "def son_anagramas(palabra1, palabra2):\n",
    "    return sorted(palabra1.lower()) == sorted(palabra2.lower())\n"
   ]
  },
  {
   "cell_type": "code",
   "execution_count": null,
   "id": "591e2f5a",
   "metadata": {},
   "outputs": [],
   "source": [
    "# 31. Crea una función que solicite al usuario ingresar una lista de nombres y luego solicite un nombre para buscar en esa lista. Si el nombre está en la lista, se imprime un mensaje indicando que fue encontrado, de lo contrario, se lanza una excepción.\n",
    "\n",
    "class NombreNoEncontradoError(Exception):\n",
    "    \"\"\"Excepción personalizada para nombre no encontrado.\"\"\"\n",
    "    pass\n",
    "\n",
    "def buscar_nombre():\n",
    "    try:\n",
    "        entrada = input(\"Ingresa una lista de nombres separados por comas: \")\n",
    "        lista_nombres = [nombre.strip() for nombre in entrada.split(\",\") if nombre.strip()]\n",
    "        \n",
    "        nombre_a_buscar = input(\"Ingresa el nombre que deseas buscar: \").strip()\n",
    "        \n",
    "        if nombre_a_buscar in lista_nombres:\n",
    "            print(f\"El nombre '{nombre_a_buscar}' fue encontrado en la lista.\")\n",
    "        else:\n",
    "            raise NombreNoEncontradoError(f\"El nombre '{nombre_a_buscar}' no está en la lista.\")\n",
    "    \n",
    "    except NombreNoEncontradoError as e:\n",
    "        print(f\"Error: {e}\")\n",
    "\n",
    "#ejemplo de uso\n",
    "\n",
    "# Ejecutar la función\n",
    "# buscar_nombre()  # Descomenta esta línea si deseas ejecutarla en un entorno interactivo\n",
    "\n"
   ]
  },
  {
   "cell_type": "code",
   "execution_count": null,
   "id": "9dce4738",
   "metadata": {},
   "outputs": [],
   "source": [
    "#32. Crea una función que tome un nombre completo y una lista de empleados, busque el nombre completo en la lista y devuelve el puesto del empleado si está en la lista, de lo contrario, devuelve un mensaje indicando que la persona no trabaja aquí.\n",
    "\n",
    "def obtener_puesto(nombre_completo, empleados):\n",
    "    for empleado in empleados:\n",
    "        if empleado[\"nombre\"] == nombre_completo:\n",
    "            return empleado[\"puesto\"]\n",
    "    return f\"{nombre_completo} no trabaja aquí.\"\n"
   ]
  },
  {
   "cell_type": "code",
   "execution_count": null,
   "id": "4397df2c",
   "metadata": {},
   "outputs": [],
   "source": [
    "#33. Crea una función lambda que sume elementos correspondientes de dos listas dadas.\n",
    "\n",
    "sumar_listas = lambda lista1, lista2: list(map(lambda x, y: x + y, lista1, lista2))\n"
   ]
  },
  {
   "cell_type": "code",
   "execution_count": 15,
   "id": "5e8e44ac",
   "metadata": {},
   "outputs": [],
   "source": [
    "\"\"\"34.  Crea la clase Arbol , define un árbol genérico con un tronco y ramas como atributos. Los métodos disponibles son:\n",
    "crecer_tronco , nueva_rama , crecer_ramas , quitar_rama e info_arbol . El objetivo es implementar estos métodos para\n",
    "manipular la estructura del árbol.\n",
    "Código a seguir:\n",
    "1. Inicializar un árbol con un tronco de longitud 1 y una lista vacía de ramas.\n",
    "2. Implementar el método crecer_tronco para aumentar la longitud del tronco en una unidad.\n",
    "3. Implementar el método nueva_rama para agregar una nueva rama de longitud 1 a la lista de ramas.\n",
    "4. Implementar el método crecer_ramas para aumentar en una unidad la longitud de todas las ramas existentes.\n",
    "5. Implementar el método quitar_rama para eliminar una rama en una posición específica.\n",
    "6. Implementar el método\n",
    "info_arbol para devolver información sobre la longitud del tronco, el número de ramas y las longitudes de las\n",
    "mismas.\n",
    "Caso de uso:\n",
    "1. Crear un árbol.\n",
    "2. Hacer crecer el tronco del árbol una unidad.\n",
    "3. Añadir una nueva rama al árbol.\n",
    "4. Hacer crecer todas las ramas del árbol una unidad.\n",
    "5. Añadir dos nuevas ramas al árbol.\n",
    "6. Retirar la rama situada en la posición 2.\n",
    "7. Obtener información sobre el árbol.\n",
    "\n",
    "\"\"\"\n",
    "class Arbol:\n",
    "    def __init__(self):\n",
    "        self.tronco = 1\n",
    "        self.ramas = []\n",
    "\n",
    "    def crecer_tronco(self):\n",
    "        self.tronco += 1\n",
    "\n",
    "    def nueva_rama(self):\n",
    "        self.ramas.append(1)\n",
    "\n",
    "    def crecer_ramas(self):\n",
    "        self.ramas = [longitud + 1 for longitud in self.ramas]\n",
    "\n",
    "    def quitar_rama(self, posicion):\n",
    "        if 0 <= posicion < len(self.ramas):\n",
    "            self.ramas.pop(posicion)\n",
    "        else:\n",
    "            print(\"Posición inválida. No se pudo quitar la rama.\")\n",
    "\n",
    "    def info_arbol(self):\n",
    "        return {\n",
    "            \"longitud_tronco\": self.tronco,\n",
    "            \"numero_ramas\": len(self.ramas),\n",
    "            \"longitudes_ramas\": self.ramas\n",
    "        }\n",
    "\n"
   ]
  },
  {
   "cell_type": "code",
   "execution_count": 18,
   "id": "d323a39c",
   "metadata": {},
   "outputs": [],
   "source": [
    "\"\"\" 36. Crea la clase UsuarioBanco ,representa a un usuario de un banco con su nombre, saldo y si tiene o no cuenta\n",
    "corriente. Proporciona métodos para realizar operaciones como retirar dinero, transferir dinero desde otro usuario y\n",
    "agregar dinero al saldo.\n",
    "Código a seguir:\n",
    "1. Inicializar un usuario con su nombre, saldo y si tiene o no cuenta corriente mediante True y False .\n",
    "2. Implementar el método retirar_dinero para retirar dinero del saldo del usuario. Lanzará un error en caso de no\n",
    "poder hacerse.\n",
    "3. Implementar el método transferir_dinero para realizar una transferencia desde otro usuario al usuario actual.\n",
    "Lanzará un error en caso de no poder hacerse.\n",
    "4. Implementar el método agregar_dinero para agregar dinero al saldo del usuario.\n",
    "Caso de uso:\n",
    "1. Crear dos usuarios: \"Alicia\" con saldo inicial de 100 y \"Bob\" con saldo inicial de 50, ambos con cuenta corriente.\n",
    "PROYECTO LÓGICA: Katas de Python 3\n",
    "2. Agregar 20 unidades de saldo de \"Bob\".\n",
    "3. Hacer una transferencia de 80 unidades desde \"Bob\" a \"Alicia\".\n",
    "4. Retirar 50 unidades de saldo a \"Alicia\".  \n",
    "\n",
    "\"\"\"\n",
    "class UsuarioBanco:\n",
    "    def __init__(self, nombre, saldo, cuenta_corriente):\n",
    "        self.nombre = nombre\n",
    "        self.saldo = saldo\n",
    "        self.cuenta_corriente = cuenta_corriente\n",
    "\n",
    "    def retirar_dinero(self, cantidad):\n",
    "        if cantidad <= 0:\n",
    "            raise ValueError(\"La cantidad a retirar debe ser mayor que cero.\")\n",
    "        if cantidad > self.saldo:\n",
    "            raise ValueError(f\"{self.nombre} no tiene suficiente saldo para retirar {cantidad}.\")\n",
    "        self.saldo -= cantidad\n",
    "\n",
    "    def transferir_dinero(self, otro_usuario, cantidad):\n",
    "        if cantidad <= 0:\n",
    "            raise ValueError(\"La cantidad a transferir debe ser mayor que cero.\")\n",
    "        if cantidad > otro_usuario.saldo:\n",
    "            raise ValueError(f\"{otro_usuario.nombre} no tiene suficiente saldo para transferir {cantidad}.\")\n",
    "        otro_usuario.saldo -= cantidad\n",
    "        self.saldo += cantidad\n",
    "\n",
    "    def agregar_dinero(self, cantidad):\n",
    "        if cantidad <= 0:\n",
    "            raise ValueError(\"La cantidad a agregar debe ser mayor que cero.\")\n",
    "        self.saldo += cantidad\n",
    "\n",
    "    def __str__(self):\n",
    "        return f\"{self.nombre} - Saldo: {self.saldo} - Cuenta corriente: {self.cuenta_corriente}\"\n",
    "\n"
   ]
  },
  {
   "cell_type": "code",
   "execution_count": 1,
   "id": "1011786e",
   "metadata": {},
   "outputs": [
    {
     "name": "stdout",
     "output_type": "stream",
     "text": [
      "{'hola': 1, 'mundo': 3, 'esto': 1, 'es': 1, 'un': 1, 'texto': 1, 'de': 1, 'ejemplo': 1}\n",
      "Hola universo universo esto es un texto de ejemplo universo\n",
      "Hola esto es un texto de ejemplo\n"
     ]
    }
   ],
   "source": [
    "\"\"\" 37. \n",
    "Crea una función llamada procesar_texto que procesa un texto según la opción especificada: contar_palabras ,\n",
    "reemplazar_palabras , eliminar_palabra . Estas opciones son otras funciones que tenemos que definir primero y llamar dentro\n",
    "de la función procesar_texto .\n",
    "Código a seguir:\n",
    "1. Crear una función contar_palabras para contar el número de veces que aparece cada palabra en el texto. Tiene\n",
    "que devolver un diccionario.\n",
    "2. Crear una función reemplazar_palabras para remplazar una palabra_original del texto por una palabra_nueva . Tiene\n",
    "que devolver el texto con el remplazo de palabras.\n",
    "3. Crear una función eliminar_palabra para eliminar una palabra del texto. Tiene que devolver el texto con la palabra\n",
    "eliminada.\n",
    "4. Crear la función procesar_texto que tome un texto, una opción(entre \"contar\", \"reemplazar\", \"eliminar\") y un\n",
    "número de argumentos variable según la opción indicada.\n",
    "Caso de uso:\n",
    "Comprueba el funcionamiento completo de la función procesar_texto\n",
    "\n",
    "\"\"\"\n",
    "def contar_palabras(texto):\n",
    "    palabras = texto.split()\n",
    "    contador = {}\n",
    "    for palabra in palabras:\n",
    "        palabra = palabra.lower()\n",
    "        contador[palabra] = contador.get(palabra, 0) + 1\n",
    "    return contador\n",
    "\n",
    "def reemplazar_palabras(texto, palabra_original, palabra_nueva):\n",
    "    return texto.replace(palabra_original, palabra_nueva)\n",
    "\n",
    "def eliminar_palabra(texto, palabra):\n",
    "    palabras = texto.split()\n",
    "    resultado = [p for p in palabras if p != palabra]\n",
    "    return ' '.join(resultado)\n",
    "\n",
    "def procesar_texto(texto, opcion, *args):\n",
    "    if opcion == \"contar\":\n",
    "        return contar_palabras(texto)\n",
    "    elif opcion == \"reemplazar\":\n",
    "        if len(args) == 2:\n",
    "            return reemplazar_palabras(texto, args[0], args[1])\n",
    "        else:\n",
    "            return \"Se necesitan 2 palabras para reemplazar.\"\n",
    "    elif opcion == \"eliminar\":\n",
    "        if len(args) == 1:\n",
    "            return eliminar_palabra(texto, args[0])\n",
    "        else:\n",
    "            return \"Se necesita 1 palabra para eliminar.\"\n",
    "    else:\n",
    "        return \"Opción no válida.\"\n",
    "\n",
    "# -------------------\n",
    "# 🧪 CASOS DE USO:\n",
    "# -------------------\n",
    "\n",
    "texto = \"Hola mundo mundo esto es un texto de ejemplo mundo\"\n",
    "\n",
    "# Contar palabras\n",
    "print(procesar_texto(texto, \"contar\"))\n",
    "# → {'hola': 1, 'mundo': 3, 'esto': 1, 'es': 1, 'un': 1, 'texto': 1, 'de': 1, 'ejemplo': 1}\n",
    "\n",
    "# Reemplazar \"mundo\" por \"universo\"\n",
    "print(procesar_texto(texto, \"reemplazar\", \"mundo\", \"universo\"))\n",
    "# → Hola universo universo esto es un texto de ejemplo universo\n",
    "\n",
    "# Eliminar la palabra \"mundo\"\n",
    "print(procesar_texto(texto, \"eliminar\", \"mundo\"))\n",
    "# → Hola esto es un texto de ejemplo\n",
    "\n"
   ]
  },
  {
   "cell_type": "code",
   "execution_count": 2,
   "id": "fdafffce",
   "metadata": {},
   "outputs": [
    {
     "name": "stdout",
     "output_type": "stream",
     "text": [
      "Es de noche.\n"
     ]
    }
   ],
   "source": [
    "# 38. Genera un programa que nos diga si es de noche, de día o tarde según la hora proporcionada por el usuario.\n",
    "\n",
    "def determinar_momento(hora):\n",
    "    if not 0 <= hora <= 23:\n",
    "        return \"Hora no válida. Debe estar entre 0 y 23.\"\n",
    "    \n",
    "    if 6 <= hora < 12:\n",
    "        return \"Es de día (mañana).\"\n",
    "    elif 12 <= hora < 18:\n",
    "        return \"Es de tarde.\"\n",
    "    else:\n",
    "        return \"Es de noche.\"\n",
    "\n",
    "# Solicitar hora al usuario\n",
    "try:\n",
    "    entrada = input(\"Introduce la hora actual (0-23): \")\n",
    "    hora = int(entrada)\n",
    "    resultado = determinar_momento(hora)\n",
    "    print(resultado)\n",
    "except ValueError:\n",
    "    print(\"Entrada no válida. Debes introducir un número entero entre 0 y 23.\")\n"
   ]
  },
  {
   "cell_type": "code",
   "execution_count": 3,
   "id": "770fa815",
   "metadata": {},
   "outputs": [
    {
     "name": "stdout",
     "output_type": "stream",
     "text": [
      "Resultado: Bien\n"
     ]
    }
   ],
   "source": [
    "\"\"\" 39. Escribe un programa que determine qué calificación en texto tiene un alumno en base a su calificación numérica.\n",
    "Las reglas de calificación son:\n",
    "- 0 - 69 insuficiente\n",
    "- 70 - 79 bien\n",
    "- 80 - 89 muy bien\n",
    "- 90 - 100 excelente\n",
    "\n",
    "\"\"\"\n",
    "def calificacion_en_texto(nota):\n",
    "    if not 0 <= nota <= 100:\n",
    "        return \"Calificación no válida. Debe estar entre 0 y 100.\"\n",
    "    \n",
    "    if nota < 70:\n",
    "        return \"Insuficiente\"\n",
    "    elif nota < 80:\n",
    "        return \"Bien\"\n",
    "    elif nota < 90:\n",
    "        return \"Muy bien\"\n",
    "    else:\n",
    "        return \"Excelente\"\n",
    "\n",
    "# Solicitar calificación al usuario\n",
    "try:\n",
    "    entrada = input(\"Introduce la calificación numérica (0-100): \")\n",
    "    nota = int(entrada)\n",
    "    resultado = calificacion_en_texto(nota)\n",
    "    print(f\"Resultado: {resultado}\")\n",
    "except ValueError:\n",
    "    print(\"Entrada no válida. Debes introducir un número entero.\")\n",
    "\n"
   ]
  },
  {
   "cell_type": "code",
   "execution_count": 4,
   "id": "af73031e",
   "metadata": {},
   "outputs": [],
   "source": [
    "\"\"\" 40. Escribe una función que tome dos parámetros: figura (una cadena que puede ser \"rectangulo\" , \"circulo\" o\n",
    "\"triangulo\" ) y datos (una tupla con los datos necesarios para calcular el área de la figura).\n",
    "\"\"\"\n",
    " \n",
    "import math\n",
    "\n",
    "def calcular_area(figura, datos):\n",
    "    figura = figura.lower()\n",
    "\n",
    "    if figura == \"rectangulo\":\n",
    "        if len(datos) != 2:\n",
    "            raise ValueError(\"Para un rectángulo se requieren 2 datos: base y altura.\")\n",
    "        base, altura = datos\n",
    "        return base * altura\n",
    "\n",
    "    elif figura == \"triangulo\":\n",
    "        if len(datos) != 2:\n",
    "            raise ValueError(\"Para un triángulo se requieren 2 datos: base y altura.\")\n",
    "        base, altura = datos\n",
    "        return (base * altura) / 2\n",
    "\n",
    "    elif figura == \"circulo\":\n",
    "        if len(datos) != 1:\n",
    "            raise ValueError(\"Para un círculo se requiere 1 dato: radio.\")\n",
    "        (radio,) = datos\n",
    "        return math.pi * radio ** 2\n",
    "\n",
    "    else:\n",
    "        raise ValueError(\"Figura no reconocida. Debe ser 'rectangulo', 'circulo' o 'triangulo'.\")\n"
   ]
  },
  {
   "cell_type": "code",
   "execution_count": 5,
   "id": "988e04ab",
   "metadata": {},
   "outputs": [
    {
     "name": "stdout",
     "output_type": "stream",
     "text": [
      "Descuento aplicado: 25.0 €\n",
      "Precio final de la compra: 75.00 €\n"
     ]
    }
   ],
   "source": [
    "\"\"\"41. \n",
    "En este ejercicio, se te pedirá que escribas un programa en Python que utilice condicionales para determinar el\n",
    "monto final de una compra en una tienda en línea, después de aplicar un descuento. El programa debe hacer lo\n",
    "siguiente:\n",
    "1. Solicita al usuario que ingrese el precio original de un artículo.\n",
    "2. Pregunta al usuario si tiene un cupón de descuento (respuesta sí o no).\n",
    "3. Si el usuario responde que sí, solicita que ingrese el valor del cupón de descuento.\n",
    "4. Aplica el descuento al precio original del artículo, siempre y cuando el valor del cupón sea válido (es decir, mayor\n",
    "a cero). Por ejemplo, descuento de 15€.\n",
    "5. Muestra el precio final de la compra, teniendo en cuenta el descuento aplicado o sin él.\n",
    "6. Recuerda utilizar estructuras de control de flujo como if, elif y else para llevar a cabo estas acciones en tu\n",
    "programa de Python.\n",
    "\n",
    "\"\"\"\n",
    "\n",
    "def calcular_precio_final():\n",
    "    try:\n",
    "        precio_original = float(input(\"Ingrese el precio original del artículo (€): \"))\n",
    "        if precio_original <= 0:\n",
    "            print(\"El precio debe ser mayor que cero.\")\n",
    "            return\n",
    "\n",
    "        tiene_cupon = input(\"¿Tiene un cupón de descuento? (sí/no): \").strip().lower()\n",
    "\n",
    "        if tiene_cupon == \"sí\" or tiene_cupon == \"si\":\n",
    "            valor_cupon = float(input(\"Ingrese el valor del cupón de descuento (€): \"))\n",
    "            if valor_cupon > 0:\n",
    "                precio_final = max(precio_original - valor_cupon, 0)\n",
    "                print(f\"Descuento aplicado: {valor_cupon} €\")\n",
    "            else:\n",
    "                print(\"Cupón inválido. Se ignorará el descuento.\")\n",
    "                precio_final = precio_original\n",
    "        else:\n",
    "            precio_final = precio_original\n",
    "\n",
    "        print(f\"Precio final de la compra: {precio_final:.2f} €\")\n",
    "\n",
    "    except ValueError:\n",
    "        print(\"Entrada no válida. Asegúrate de ingresar valores numéricos correctamente.\")\n",
    "\n",
    "# Ejecutar el programa\n",
    "calcular_precio_final()\n"
   ]
  },
  {
   "cell_type": "code",
   "execution_count": null,
   "id": "093845e5",
   "metadata": {},
   "outputs": [],
   "source": []
  },
  {
   "cell_type": "code",
   "execution_count": null,
   "id": "81635c8f",
   "metadata": {},
   "outputs": [],
   "source": []
  },
  {
   "cell_type": "code",
   "execution_count": null,
   "id": "d1a898f5",
   "metadata": {},
   "outputs": [],
   "source": []
  }
 ],
 "metadata": {
  "kernelspec": {
   "display_name": ".venv",
   "language": "python",
   "name": "python3"
  },
  "language_info": {
   "codemirror_mode": {
    "name": "ipython",
    "version": 3
   },
   "file_extension": ".py",
   "mimetype": "text/x-python",
   "name": "python",
   "nbconvert_exporter": "python",
   "pygments_lexer": "ipython3",
   "version": "3.13.1"
  }
 },
 "nbformat": 4,
 "nbformat_minor": 5
}
